{
 "cells": [
  {
   "cell_type": "markdown",
   "metadata": {},
   "source": [
    "Greetings!\n",
    "\n",
    "This notebook contains a demo for using a research prototype implementation of two deletion efficient k-means algorithms and DC-k-means."
   ]
  },
  {
   "cell_type": "code",
   "execution_count": null,
   "metadata": {},
   "outputs": [],
   "source": [
    "import numpy as np\n",
    "import matplotlib.pyplot as plt\n",
    "from del_eff_kmeans import Kmeans, DCKmeans\n",
    "import time"
   ]
  },
  {
   "cell_type": "markdown",
   "metadata": {},
   "source": [
    "First, let's generate a simple dataset based on a Gaussian mixture. Let's assume we have three clusters."
   ]
  },
  {
   "cell_type": "code",
   "execution_count": null,
   "metadata": {},
   "outputs": [],
   "source": [
    "k = 3\n",
    "n1 = 5*10**2\n",
    "n2 = 5*10**2\n",
    "n3 = 8*10**2\n",
    "n = n1 + n2 + n3\n",
    "cov = [[0.05,0],[0,0.05]]\n",
    "def sample_gmm():\n",
    "    cluster1 = np.random.multivariate_normal([2,0], cov , n1)\n",
    "    cluster2 = np.random.multivariate_normal([0,2], cov , n2)\n",
    "    cluster3 = np.random.multivariate_normal([-1.5,-1.5], cov , n3)\n",
    "    return np.vstack((cluster1,cluster2,cluster3))\n",
    "\n",
    "data = sample_gmm()\n",
    "plt.scatter(data[:,0],data[:,1])\n",
    "plt.show()"
   ]
  },
  {
   "cell_type": "markdown",
   "metadata": {},
   "source": [
    "I bet you can guess where each center will end up!\n",
    "\n",
    "Let's run the algorithms. First up is classic k-means++!"
   ]
  },
  {
   "cell_type": "code",
   "execution_count": null,
   "metadata": {},
   "outputs": [],
   "source": [
    "def show_clustering(centers,assignments,data):\n",
    "    colors = ['r','b','g']\n",
    "    for a in [0,1,2]:\n",
    "        data_a = data[assignments == a]\n",
    "        plt.scatter(data_a[:,0],data_a[:,1])\n",
    "        plt.scatter(centers[a,0],centers[a,1],marker='x',color='k')\n",
    "    plt.show()"
   ]
  },
  {
   "cell_type": "code",
   "execution_count": null,
   "metadata": {},
   "outputs": [],
   "source": [
    "kmeans = Kmeans(k)\n",
    "centers, assignments, loss = kmeans.run(data.copy())\n",
    "print(f'Clustering loss is {loss}')\n",
    "show_clustering(centers, assignments, data)"
   ]
  },
  {
   "cell_type": "markdown",
   "metadata": {},
   "source": [
    "Did you get what you expected? Remember that k-means isn't guaranteed to converge to a global minimum! You might want to run the above cell again if you think the algorithm got stuck in a bad local minimum.\n",
    "\n"
   ]
  },
  {
   "cell_type": "markdown",
   "metadata": {},
   "source": [
    "Finally we've got DC-k-means. Let's split up the data into 16 buckets."
   ]
  },
  {
   "cell_type": "code",
   "execution_count": null,
   "metadata": {},
   "outputs": [],
   "source": [
    "#first parameter is a list of k's for sub-problems at each layer\n",
    "#second parameter is the number of buckets for each layer\n",
    "dckmeans = DCKmeans([k,k],[1,16])\n",
    "centers, assignments, loss = dckmeans.run(data.copy(),assignments=True)\n",
    "print(f'Clustering loss is {loss}')\n",
    "show_clustering(centers, assignments, data)"
   ]
  },
  {
   "cell_type": "markdown",
   "metadata": {},
   "source": [
    "These three methods should be produce fairly similar clusters (unless one happened to get stuck in a bad local minimum).\n",
    "\n",
    "Now we can see how quickly the methods can process a sequence of 20 deletion requests!"
   ]
  },
  {
   "cell_type": "code",
   "execution_count": null,
   "metadata": {},
   "outputs": [],
   "source": [
    "def online_deletion_stream(num_dels,model):\n",
    "    t0 = time.time()\n",
    "    c = 1\n",
    "    for _ in range(num_dels):\n",
    "        dr = np.random.choice(model.n,size=1)[0]\n",
    "        print(f'processing deletion request # {c}...')\n",
    "        model.delete(dr)\n",
    "        c += 1\n",
    "    t = time.time()\n",
    "    print(f'Total time to process {c-1} deletions is {t-t0}')"
   ]
  },
  {
   "cell_type": "markdown",
   "metadata": {},
   "source": [
    "For the k-means baseline, each we have to satisfy each \"deletion\" by re-training from scratch."
   ]
  },
  {
   "cell_type": "code",
   "execution_count": null,
   "metadata": {},
   "outputs": [],
   "source": [
    "print('Simulation deletion stream for kmeans')\n",
    "online_deletion_stream(20,kmeans)"
   ]
  },
  {
   "cell_type": "code",
   "execution_count": null,
   "metadata": {},
   "outputs": [],
   "source": [
    "print('Simulation deletion stream for dckmeans')\n",
    "online_deletion_stream(20,dckmeans)"
   ]
  },
  {
   "cell_type": "markdown",
   "metadata": {},
   "source": [
    "So it seems like both methods are a good deal faster! That's a win for deletion efficient clustering techniques.\n"
   ]
  }
 ],
 "metadata": {
  "kernelspec": {
   "display_name": "Python 3 (ipykernel)",
   "language": "python",
   "name": "python3"
  },
  "language_info": {
   "codemirror_mode": {
    "name": "ipython",
    "version": 3
   },
   "file_extension": ".py",
   "mimetype": "text/x-python",
   "name": "python",
   "nbconvert_exporter": "python",
   "pygments_lexer": "ipython3",
   "version": "3.9.12"
  }
 },
 "nbformat": 4,
 "nbformat_minor": 2
}
